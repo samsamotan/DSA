{
 "cells": [
  {
   "cell_type": "code",
   "execution_count": 1,
   "id": "dbfda6ff",
   "metadata": {},
   "outputs": [],
   "source": [
    "import numpy as np\n",
    "import matplotlib.pyplot as plt\n",
    "import yfinance"
   ]
  },
  {
   "cell_type": "markdown",
   "id": "a4f41722-192b-4ccd-9aa6-354926ed0781",
   "metadata": {},
   "source": [
    "# STUDENT ID NUMBER: "
   ]
  },
  {
   "cell_type": "markdown",
   "id": "85f243de-c102-47ba-8b74-ba142c4a7929",
   "metadata": {},
   "source": [
    "# INSTRUCTIONS\n",
    "\n",
    "1. Put your student ID number (no other identifying features).  \n",
    "If collaborating, put collaborators' id numbers underneath (again, no identifying features).\n",
    "1. Submit both a notebook and exported PDF of the notebook after restart-and-run-all.  \n",
    "    1. Submitted notebook must run in reasonable time.\n",
    "    1. Ensure the exported pdf is LaTex formatted. \n",
    "1. For the written section:\n",
    "    1. Output should be listed in a separate, typeset PDF with your ID number.\n",
    "    1. Question numbers are from *The Algorithm Design Manual*, 2nd edition by Steven Skiena.\n",
    "    1. Incomplete solutions recieve no credit. \n",
    "1. For the coding section:\n",
    "    1. Limit code answers to the designated spaces in functions (marked off by \"###\") and cells (marked by \"### DO: *\\<instructions\\>*\").  \n",
    "       You may add extra cells to run subroutines (in order), but only marked cells will be graded. \n",
    "    1. Do not change the provided cells, or their order.  \n",
    "       Any detected alterations will zero out that section. \n",
    "       \n",
    "### Tips\n",
    "- You are encouraged to work either alone or with your official partner, but not more.  \n",
    "- For the coding section, test and sanity-check your work extensively.  \n",
    "- For written questions on the coding exercises, if you really understand the solution, the answer should fit in 1-3 sentences.  "
   ]
  },
  {
   "cell_type": "markdown",
   "id": "e8e1f557-afd9-4a2c-98e2-8e3a20657879",
   "metadata": {},
   "source": [
    "# Written [$2(3\\times 5) + 5(2\\times 4) = 70$ pts]"
   ]
  },
  {
   "cell_type": "markdown",
   "id": "44b789a2-0bbd-449b-906e-9b4160fda023",
   "metadata": {},
   "source": [
    "## Chapter 4\n",
    "\n",
    "1. Skiena 4-12\n",
    "1. Skiena 4-14\n",
    "1. Skiena 4-16\n",
    "1. Skiena 4-20\n",
    "1. Skiena 4-35\n",
    "\n",
    "## Chapter 5\n",
    "\n",
    "1. Skiena 5-3\n",
    "1. Skiena 5-5\n",
    "1. Skiena 5-9\n",
    "1. Skiena 5-10\n",
    "1. Skiena 5-14\n",
    "\n",
    "## Chapter 6\n",
    "\n",
    "1. Skiena 6-2\n",
    "1. Skiena 6-3\n",
    "1. Skiena 6-15\n",
    "1. Skiena 6-20\n",
    "1. Skiena 6-23\n",
    "\n",
    "## Ex. 1 \n",
    "\n",
    "The movie *Good Will Hunting* is about Will Hunting, a secret genius, being discovered after discretely solving 2 sets of graph/linear algebra questions.  \n",
    "The first set were meant as \"a challenge for his graduate students,\" which is odd because they are not at all challenging if you understand the terminology.  \n",
    "To illustrate, I will have you answer the same problems.  \n",
    "\n",
    "1. Construct the adjacency matrix $A$ for the 4-vertex graph $G$ shown. \n",
    "1. Find the matrix giving the number of 3-step walks in $G$. \n",
    "1. Find the generating function for walks from point $i$ to $j$.  \n",
    "Hint: Treat this as a (matrix) geometric series, and use [Cramer's rule](https://en.wikipedia.org/wiki/Cramer%27s_rule#Finding_inverse_matrix). \n",
    "1. Find the generating function for walks from points $1$ to $3$.\n",
    "\n",
    "Terms\n",
    "- **Adjacency Matrix:** See notebook/lecture. \n",
    "- **Generating Function:** Given graph $G$, one can assign to each pair of nodes $(i,j)$ a series expansion $$f(z) = \\sum_{n=0}^{\\infty} a_n^{(i,j)} z^n$$ where $ a_n^{(i,j)}$ is the number of walks from $i$ to $j$ with $n$ steps.  \n",
    "## Ex. 2\n",
    "\n",
    "One of the earlier papers trying to use quantitative methods in finance is [Mantegna 1999](https://arxiv.org/pdf/cond-mat/9802256).  \n",
    "In it, he constructs the MST for stock correlations in the S&P500 over a given period.  \n",
    "\n",
    "1. Why did Mantegna need to go through the conversion to logarithms, covariances, etc., before making the MST?\n",
    "1. What is the purpose of creating the MST of financial correlations?  \n",
    "1. What are theoretical weaknesses of Mantegna's original analysis, w.r.t. his original goal?  \n",
    "Give at least 2 examples and justify them.    \n",
    "You may need to look for further references and citations.  "
   ]
  },
  {
   "cell_type": "markdown",
   "id": "4102bd4b-592d-4571-87f8-8ee189670b61",
   "metadata": {},
   "source": [
    "# Coding [$20 + 10 = 30$ pts]"
   ]
  },
  {
   "cell_type": "markdown",
   "id": "65fe942c-b129-4da6-ad2a-18fcdae5be4b",
   "metadata": {},
   "source": [
    "## Ex. 1 - Good Will Hunting\n",
    "\n",
    "The movie *Good Will Hunting* is about Will Hunting, a secret genius, being discovered after discretely solving 2 sets of graph/linear algebra questions.  \n",
    "The first set were meant as \"a challenge for his graduate students,\" which is odd because they are not at all challenging if you understand the terminology.  \n",
    "To illustrate, I will have you answer the same problems - in **code** this time.  "
   ]
  },
  {
   "cell_type": "code",
   "execution_count": 2,
   "id": "383ac786-de58-4ea0-a0fd-f2990223cbf6",
   "metadata": {},
   "outputs": [],
   "source": [
    "### DO: Define variable A to numerically encode the graph as an adjacency matrix. \n",
    "\n",
    "\n"
   ]
  },
  {
   "cell_type": "code",
   "execution_count": 3,
   "id": "15e1beb2-d7bf-43d4-9608-c38e9aa2c92e",
   "metadata": {},
   "outputs": [],
   "source": [
    "### DO: Fill in the code below to take in adjacency matrix A, positive integer n.\n",
    "### Have it return the number of walks from any vertex i to any vertex j. \n",
    "### Double check against the n=3 case for the good will hunting graph. \n",
    "\n",
    "def graphWalks(A, n):\n",
    "    walks = 0\n",
    "    \n",
    "    ### YOUR CODE HERE ###\n",
    "\n",
    "    \n",
    "    ### END ###\n",
    "    return walks"
   ]
  },
  {
   "cell_type": "code",
   "execution_count": 4,
   "id": "759283b4-a404-423e-a4cf-4b99c287ccb2",
   "metadata": {},
   "outputs": [],
   "source": [
    "### DO: Fill in the code below to take in adjacency matrix A, start vertex i, end vertex j.\n",
    "### Have it return the corresponding generating function as a numpy/python function.\n",
    "\n",
    "def graphGenF(A, i, j):\n",
    "    walks = 0\n",
    "    \n",
    "    ### YOUR CODE HERE ###\n",
    "\n",
    "    \n",
    "    ### END ###\n",
    "    return walks"
   ]
  },
  {
   "cell_type": "code",
   "execution_count": 5,
   "id": "f01653b3-1e20-41b7-b4bd-066cc6d44978",
   "metadata": {},
   "outputs": [],
   "source": [
    "### DO: Double check your results against the i=1, j=3 case of the good will hunting graph.\n",
    "\n"
   ]
  },
  {
   "cell_type": "markdown",
   "id": "0f96694a-7bf9-474b-9173-02bbb44e4805",
   "metadata": {},
   "source": [
    "## Ex. 2 - MSTs in Finance\n",
    "\n",
    "One of the earlier papers trying to use quantitative methods in finance is [Mantegna 1999](https://arxiv.org/pdf/cond-mat/9802256).  \n",
    "In it, he constructs the MST for stocks in the S&P500 over a given period.  \n",
    "\n",
    "That is all I will say about his method now.  \n",
    "Your goal is to read the paper and recreate his mehodology for the S&P500 daily stock prices in the last 2 years.  \n",
    "\n",
    "I would recommend using `yfinance`, but you may use any free API.  \n",
    "You do not need to use all of the alloted cells, but do not exceed them.  "
   ]
  },
  {
   "cell_type": "code",
   "execution_count": 6,
   "id": "3d06f126-e18b-4ecf-8a7a-9930fb028729",
   "metadata": {},
   "outputs": [],
   "source": [
    "### DO: Step 1\n",
    "\n",
    "\n"
   ]
  },
  {
   "cell_type": "code",
   "execution_count": 7,
   "id": "f66a409c-1b07-4433-bb3b-08ad4dfdc9d1",
   "metadata": {},
   "outputs": [],
   "source": [
    "### DO: Step 2\n",
    "\n",
    "\n"
   ]
  },
  {
   "cell_type": "code",
   "execution_count": null,
   "id": "a8b910f0-e595-45c8-b4a3-bd63a2b50e7d",
   "metadata": {},
   "outputs": [],
   "source": [
    "### DO: Step 3\n",
    "\n",
    "\n"
   ]
  },
  {
   "cell_type": "code",
   "execution_count": null,
   "id": "8338535e-17fb-459c-af11-f437aa3b1889",
   "metadata": {},
   "outputs": [],
   "source": [
    "### DO: Step 4\n",
    "\n",
    "\n"
   ]
  },
  {
   "cell_type": "code",
   "execution_count": null,
   "id": "df41e42f-79a0-4924-ac04-0b3bebe0088b",
   "metadata": {},
   "outputs": [],
   "source": [
    "### DO: Step 5\n",
    "\n",
    "\n"
   ]
  }
 ],
 "metadata": {
  "kernelspec": {
   "display_name": "Python 3 (ipykernel)",
   "language": "python",
   "name": "python3"
  },
  "language_info": {
   "codemirror_mode": {
    "name": "ipython",
    "version": 3
   },
   "file_extension": ".py",
   "mimetype": "text/x-python",
   "name": "python",
   "nbconvert_exporter": "python",
   "pygments_lexer": "ipython3",
   "version": "3.9.6"
  }
 },
 "nbformat": 4,
 "nbformat_minor": 5
}
