{
 "cells": [
  {
   "cell_type": "code",
   "execution_count": 1,
   "id": "dbfda6ff",
   "metadata": {},
   "outputs": [],
   "source": [
    "import numpy as np\n",
    "import matplotlib.pyplot as plt"
   ]
  },
  {
   "cell_type": "markdown",
   "id": "fae77ad8-e33c-470e-8308-b499b29f139f",
   "metadata": {},
   "source": [
    "# STUDENT ID NUMBER: "
   ]
  },
  {
   "cell_type": "markdown",
   "id": "85f243de-c102-47ba-8b74-ba142c4a7929",
   "metadata": {},
   "source": [
    "# INSTRUCTIONS\n",
    "\n",
    "1. Put your student ID number (no other identifying features).  \n",
    "If collaborating, put collaborators' id numbers underneath (again, no identifying features).\n",
    "1. Submit both a notebook and exported PDF of the notebook after restart-and-run-all.  \n",
    "    1. Submitted notebook must run in reasonable time.\n",
    "    1. Ensure the exported pdf is LaTex formatted. \n",
    "1. No formal written section, but some of the combinatorial search questions may be abbreviated by specific algorithm choices.  \n",
    "Justify algorithm choices outside of brute-force search in a separate typset pdf. \n",
    "1. For the coding section:\n",
    "    1. Limit code answers to the designated spaces in functions (marked off by \"###\") and cells (marked by \"### DO: *\\<instructions\\>*\").  \n",
    "       You may add extra cells to run subroutines (in order), but only marked cells will be graded. \n",
    "    1. Do not change the provided cells, or their order.  \n",
    "       Any detected alterations will zero out that section. \n",
    "       \n",
    "### Tips\n",
    "- You are encouraged to work either alone or with your official partner, but not more.  \n",
    "- For the coding section, test and sanity-check your work extensively.  "
   ]
  },
  {
   "cell_type": "markdown",
   "id": "4102bd4b-592d-4571-87f8-8ee189670b61",
   "metadata": {},
   "source": [
    "# Coding [$4\\times 25 = 100$ pts]"
   ]
  },
  {
   "cell_type": "markdown",
   "id": "9276cb6e-c307-4241-bafb-357f2ebba043",
   "metadata": {},
   "source": [
    "## Ex. 1 - N-queens\n",
    "\n",
    "Make a function to generate all valid arrangements of $N$-queens on an $N\\times N$ chess board s.t. no queens attack each other.  \n",
    "Ensure your results are valid up to $N = 8$.  \n",
    "Check against a known table. \n",
    "\n",
    "Bonus 10 points to the highest $N$ in the class that runs in under a minute (as run on my system, ties split the points).  "
   ]
  },
  {
   "cell_type": "code",
   "execution_count": 2,
   "id": "1e95074f-cbb4-456d-91a7-1ba5353bd1d6",
   "metadata": {},
   "outputs": [],
   "source": [
    "### DO: Make a function to read a text file containing arrangements of N-queens on a board to ensure no queens attack each other.  \n",
    "### Prove it works. \n",
    "\n",
    "\n"
   ]
  },
  {
   "cell_type": "code",
   "execution_count": 3,
   "id": "de50f1e0-8a19-42a8-a250-4478499a932c",
   "metadata": {},
   "outputs": [],
   "source": [
    "### DO: Make a function to write a (new) text file containing arrangements of N-queens on a board s.t. no queens attack each other. \n",
    "### Use your first function to test this one. Do not use this to prove the first one works. \n",
    "### Name your files s.t. it declares the value of N in the name. \n",
    "\n",
    "\n"
   ]
  },
  {
   "cell_type": "code",
   "execution_count": 4,
   "id": "d612f009-9d9b-45ba-b9c1-a26821fbb996",
   "metadata": {},
   "outputs": [],
   "source": [
    "### DO: Check your counts agree vs. known counts.\n"
   ]
  },
  {
   "cell_type": "markdown",
   "id": "78d6ab15-4c02-4a88-8df2-e78a58b313dd",
   "metadata": {},
   "source": [
    "## Ex. 2 - Qubic\n",
    "\n",
    "*Tic-tac-toe* is a game played on a $3\\times 3$ grid, where player 1 plays X's and player 2 plays O's.   \n",
    "Players take turn putting X's and O's in the grid.  \n",
    "The winner is the first player to make 3-in-a-row either horizontally, vertically, or diagonally.  \n",
    "\n",
    "*Qubic* is tic-tac-toe played in 3-dimensions, where the winning line may also go across the depth of the grid.  \n",
    "When it was produced, it was played on a $4 \\times 4 \\times 4$ grid.  \n",
    "For simplicity, consider only the $3 \\times 3 \\times 3$ variant.  \n",
    "\n"
   ]
  },
  {
   "cell_type": "code",
   "execution_count": 5,
   "id": "ceb6a1b8-477f-41fb-b762-723ab623dd65",
   "metadata": {},
   "outputs": [],
   "source": [
    "### DO: Write a function to list all the valid games of tic-tac-toe in a separate text file\n",
    "\n",
    "\n"
   ]
  },
  {
   "cell_type": "code",
   "execution_count": 6,
   "id": "54c25a69-b9fe-4d8b-90ff-00f387f322d1",
   "metadata": {},
   "outputs": [],
   "source": [
    "### DO: Write a function to list all the valid games of qubic in a separate text file\n",
    "\n",
    "\n"
   ]
  },
  {
   "cell_type": "code",
   "execution_count": 7,
   "id": "e7544a90-1cd3-4e33-a624-5cb8b1d38090",
   "metadata": {},
   "outputs": [],
   "source": [
    "### DO: Determine if there is a known winner for both tic-tac-toe and qubic, assuming perfect play.\n",
    "\n",
    "\n"
   ]
  },
  {
   "cell_type": "markdown",
   "id": "1e17ced6-0af9-4ca5-8512-d4430bc99fd4",
   "metadata": {},
   "source": [
    "## Ex. 3 - Queen Coloring \n",
    "\n",
    "The set of legal queen moves per square on a chess board defines a graph known as the queen's graph.  \n",
    "The smallest number of colours needed to make a proper coloring of this graph for an $8\\times 8$ board is known to be $9$.  "
   ]
  },
  {
   "cell_type": "code",
   "execution_count": 8,
   "id": "4305fa3d-2666-434a-9367-aa1b3152fb37",
   "metadata": {},
   "outputs": [],
   "source": [
    "### DO: Make a function to find a valid 9-coloring of the queen's graph on an 8x8 board. \n",
    "\n",
    "\n"
   ]
  },
  {
   "cell_type": "code",
   "execution_count": 9,
   "id": "a5d05c9d-332e-43d4-b32c-c5a95b455927",
   "metadata": {},
   "outputs": [],
   "source": [
    "### DO: Prove the colouring is proper, and the graph is a queen's graph. \n",
    "\n",
    "\n"
   ]
  },
  {
   "cell_type": "markdown",
   "id": "a8e68800",
   "metadata": {},
   "source": [
    "## Ex. 4 - Knight's Tour\n",
    "\n",
    "The set of legal knight moves per square on a chess board defines a graph known as the knight's graph.  \n",
    "A tour is a sequence of edges/vertices that, if traversed, visits each vertex exactly once (i.e. without doubling back).  \n"
   ]
  },
  {
   "cell_type": "code",
   "execution_count": 10,
   "id": "ab3fcac7-fe5f-4de5-845d-ef14c5c53553",
   "metadata": {},
   "outputs": [],
   "source": [
    "### DO: Make a function to find a sequence of knight moves on an $8\\times 8$ chess board s.t. all squares are visited only once.  \n",
    "### Let it start from any square on the board.  \n",
    "### The tour may be open or closed (i.e. it does not need to loop back to itself as in TSP). \n",
    "\n"
   ]
  },
  {
   "cell_type": "code",
   "execution_count": 11,
   "id": "35f6b3df-e088-41c5-8fd4-692e5be8e391",
   "metadata": {},
   "outputs": [],
   "source": [
    "### DO: Prove that your method visits all squares exactly once.\n",
    "\n",
    "\n"
   ]
  },
  {
   "cell_type": "code",
   "execution_count": null,
   "id": "be4ede51-1fc4-4e3d-8f2a-47f177d0f449",
   "metadata": {},
   "outputs": [],
   "source": []
  }
 ],
 "metadata": {
  "kernelspec": {
   "display_name": "Python 3 (ipykernel)",
   "language": "python",
   "name": "python3"
  },
  "language_info": {
   "codemirror_mode": {
    "name": "ipython",
    "version": 3
   },
   "file_extension": ".py",
   "mimetype": "text/x-python",
   "name": "python",
   "nbconvert_exporter": "python",
   "pygments_lexer": "ipython3",
   "version": "3.11.4"
  }
 },
 "nbformat": 4,
 "nbformat_minor": 5
}
