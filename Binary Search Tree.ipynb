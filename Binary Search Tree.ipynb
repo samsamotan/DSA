{
 "cells": [
  {
   "cell_type": "code",
   "execution_count": 12,
   "metadata": {},
   "outputs": [],
   "source": [
    "class Node():\n",
    "    def __init__(self, value, height):\n",
    "        self.value = value\n",
    "        self.height = height\n",
    "        self.left = None\n",
    "        self.right = None\n",
    "\n",
    "    def __repr__(self) -> str:\n",
    "        return self.value\n",
    "    \n",
    "    def getChildren(self):\n",
    "        children = []\n",
    "        if self.left is not None:\n",
    "            children += self.left.getChildren()\n",
    "        children += [(self.value, self.height)]\n",
    "        if self.right is not None:\n",
    "            children += self.right.getChildren()\n",
    "        return children\n",
    "    \n",
    "    def insert(self, value):\n",
    "        if value < self.value:\n",
    "            if self.left is None:\n",
    "                self.left = Node(value, self.height + 1)\n",
    "            else:\n",
    "                self.left.insert(value)\n",
    "        else:\n",
    "            if self.right is None:\n",
    "                self.right = Node(value, self.height + 1)\n",
    "            else:\n",
    "                self.right.insert(value)\n",
    "    \n",
    "class BST():\n",
    "    def __init__(self) -> None:\n",
    "        self.root = None\n",
    "\n",
    "    def generate(self, nodes):\n",
    "        self.root = Node(nodes[0], 0)\n",
    "        for node in nodes[1:]:\n",
    "            self.root.insert(node)\n",
    "        pass\n",
    "\n",
    "    def balance():\n",
    "        \n",
    "        pass\n"
   ]
  },
  {
   "cell_type": "code",
   "execution_count": 27,
   "metadata": {},
   "outputs": [],
   "source": [
    "nodes = [63,52,47,78,32,83,58,79,26,76,95,23,75,27,23,13]\n",
    "test = BST()\n",
    "test.generate(nodes)\n",
    "tree = test.root.getChildren()"
   ]
  },
  {
   "cell_type": "code",
   "execution_count": 43,
   "metadata": {},
   "outputs": [
    {
     "name": "stdout",
     "output_type": "stream",
     "text": [
      "                  63            \n",
      "                  /\\            \n",
      "              52        78      \n",
      "              /\\        /\\      \n",
      "            47  58    76    83  \n",
      "            /\\  /\\    /\\    /\\  \n",
      "          32        75    79  95\n",
      "          /\\        /\\    /\\  /\\\n",
      "      26                        \n",
      "      /\\                        \n",
      "  23    27                      \n",
      "  /\\    /\\                      \n",
      "13  23                          \n",
      "/\\  /\\                          \n"
     ]
    }
   ],
   "source": [
    "max_height = 0\n",
    "for node in tree:\n",
    "    if node[1] > max_height:\n",
    "        max_height = node[1]\n",
    "\n",
    "row = []\n",
    "for i in range(len(tree)):\n",
    "    row.append(\"  \")\n",
    "\n",
    "\n",
    "graph = []\n",
    "for i in range((max_height + 1)*2):\n",
    "    graph.append(row.copy())\n",
    "\n",
    "i=0\n",
    "for node in tree:\n",
    "    graph[node[1]*2][i] = str(node[0])\n",
    "    graph[node[1]*2+1][i] = \"/\\\\\"\n",
    "    i += 1\n",
    "\n",
    "for row in graph:\n",
    "    print(''.join(row))"
   ]
  }
 ],
 "metadata": {
  "kernelspec": {
   "display_name": "base",
   "language": "python",
   "name": "python3"
  },
  "language_info": {
   "codemirror_mode": {
    "name": "ipython",
    "version": 3
   },
   "file_extension": ".py",
   "mimetype": "text/x-python",
   "name": "python",
   "nbconvert_exporter": "python",
   "pygments_lexer": "ipython3",
   "version": "3.12.4"
  }
 },
 "nbformat": 4,
 "nbformat_minor": 2
}
