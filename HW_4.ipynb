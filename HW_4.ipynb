{
 "cells": [
  {
   "cell_type": "code",
   "execution_count": 1,
   "id": "dbfda6ff",
   "metadata": {},
   "outputs": [],
   "source": [
    "import numpy as np\n",
    "import matplotlib.pyplot as plt"
   ]
  },
  {
   "cell_type": "markdown",
   "id": "fae77ad8-e33c-470e-8308-b499b29f139f",
   "metadata": {},
   "source": [
    "# STUDENT ID NUMBER: "
   ]
  },
  {
   "cell_type": "markdown",
   "id": "85f243de-c102-47ba-8b74-ba142c4a7929",
   "metadata": {},
   "source": [
    "# INSTRUCTIONS\n",
    "\n",
    "1. Put your student ID number (no other identifying features).  \n",
    "If collaborating, put collaborators' id numbers underneath (again, no identifying features).\n",
    "1. Submit both a notebook and exported PDF of the notebook after restart-and-run-all.  \n",
    "    1. Submitted notebook must run in reasonable time.\n",
    "    1. Ensure the exported pdf is LaTex formatted. \n",
    "1. No formal written section, but if your algorithm has an explicit recurrence relation, justify its usage in a separate typeset pdf.\n",
    "1. For the coding section:\n",
    "    1. Limit code answers to the designated spaces in functions (marked off by \"###\") and cells (marked by \"### DO: *\\<instructions\\>*\").  \n",
    "       You may add extra cells to run subroutines (in order), but only marked cells will be graded. \n",
    "    1. Do not change the provided cells, or their order.  \n",
    "       Any detected alterations will zero out that section. \n",
    "       \n",
    "### Tips\n",
    "- You are encouraged to work either alone or with your official partner, but not more.  \n",
    "- For the coding section, test and sanity-check your work extensively.  \n",
    "- For written questions on the coding exercises, if you really understand the solution, the answer should fit in 1-3 sentences.  "
   ]
  },
  {
   "cell_type": "markdown",
   "id": "4102bd4b-592d-4571-87f8-8ee189670b61",
   "metadata": {},
   "source": [
    "# Coding [$4 \\times 25 = 100$ pts]"
   ]
  },
  {
   "cell_type": "markdown",
   "id": "cc6b0d77-a233-49b0-af19-f3bd10a46766",
   "metadata": {},
   "source": [
    "## Ex. 1 - Linear Partition\n",
    "\n",
    "See Section 8.5 of Skiena\n"
   ]
  },
  {
   "cell_type": "code",
   "execution_count": 2,
   "id": "c6b93b01-56eb-490c-9c0b-649ac1084b6f",
   "metadata": {},
   "outputs": [],
   "source": [
    "### DO: Make a function that takes in nonnegative array A, and integer k. \n",
    "### Return the partition into k or fewer ranges to minimize the maximum sum over all ranges without reordering.  \n",
    "\n",
    "\n"
   ]
  },
  {
   "cell_type": "code",
   "execution_count": 3,
   "id": "bac41ae3-01fa-4184-ab9f-43cce9653628",
   "metadata": {},
   "outputs": [],
   "source": [
    "### DO: Prove your code works.\n",
    "\n",
    "\n"
   ]
  },
  {
   "cell_type": "markdown",
   "id": "1c1547ae-af43-4e59-9a50-2c1155c74f8c",
   "metadata": {},
   "source": [
    "## Ex. 2 - Max Sum Path\n",
    "\n",
    "Source: [Project Euler](https://projecteuler.net/problem=18)\n",
    "\n",
    "Play the following game: \n",
    "\n",
    "Make a Pascal triangle of height $N$, where the entries are random integers between 0 and 100.  \n",
    "Starting from the top, make a path by choosing any adjacent elements in the row below.  \n",
    "Do this until you reach the bottom, and add them up - this makes the *path sum*. \n",
    "\n",
    "Find the maximum path sum for a given triangle by dynamic programming. "
   ]
  },
  {
   "cell_type": "code",
   "execution_count": 4,
   "id": "1675d103-5cf5-414c-953c-74112d38d164",
   "metadata": {},
   "outputs": [],
   "source": [
    "### DO: Generate a Pascal triangle arrangement of height N, but filled with random integers between 0 and 100. \n",
    "\n",
    "\n"
   ]
  },
  {
   "cell_type": "code",
   "execution_count": 5,
   "id": "5274cf6a-b4f1-42a9-aa1c-3b17c10a49de",
   "metadata": {},
   "outputs": [],
   "source": [
    "### DO: Find the max sum path for a triangle\n",
    "\n",
    "\n"
   ]
  },
  {
   "cell_type": "code",
   "execution_count": 6,
   "id": "baab44c7-26b2-4d1e-9b2e-617215222b6e",
   "metadata": {},
   "outputs": [],
   "source": [
    "### DO: Prove it works to at least N = 100\n",
    "\n"
   ]
  },
  {
   "cell_type": "markdown",
   "id": "a8e68800",
   "metadata": {},
   "source": [
    "## Ex. 3 -  Dynamic Programming for Dynamics  \n",
    "\n",
    "Consider 2 points $(x_1, y_1)$ and $(x_2, y_2)$ where $x_1 < x_2$ and $y_1> y_2$.  \n",
    "Let a ball of mass $m$ move from the higher point to the lower point under the influence of a gravitational field.  \n",
    "Find the trajectory that minimizes the travel time by dynamic programming.  \n",
    "\n"
   ]
  },
  {
   "cell_type": "code",
   "execution_count": 7,
   "id": "f79aec61-db43-44d1-b95b-2c587d609296",
   "metadata": {},
   "outputs": [],
   "source": [
    "### DO: Find and plot the trajectory described above via dynamic programming. \n",
    "### Compare it to the theoretically optimal trajectory.\n",
    "\n",
    "\n"
   ]
  },
  {
   "cell_type": "markdown",
   "id": "69e3152b-2a13-4fa9-b30d-d548221a9870",
   "metadata": {},
   "source": [
    "## Ex. 4 - Eggplant Edits\n",
    "\n",
    "The name \"eggplant\" is apparently from the white color of (some) species of eggplant, at least in American English.  \n",
    "In other parts of the world, it is known by other (anglicized) names like \"aubergine,\" \"brinjal,\" and \"berenjena.\"   \n",
    "It is [hypothesized](https://www.youtube.com/watch?v=mQoNAR1um_c) that these names are all related to each other as loanwords, corruptions, or mutations of each other.  \n",
    "\n",
    "Find a list of at least 10 (anglicized) names for eggplant in other languages.  \n",
    "Calculate the Levenshtein edit distance between all pairs by dynamic programming.  \n",
    "Construct the MST and compare this to the historical/geographical relationships between countries. "
   ]
  },
  {
   "cell_type": "code",
   "execution_count": 8,
   "id": "9d03fb8b-485f-4594-9110-2c2f6cfd78a2",
   "metadata": {},
   "outputs": [],
   "source": [
    "### DO: Make a list L of at least 10 anglicized names for egpplant. \n",
    "\n",
    "\n"
   ]
  },
  {
   "cell_type": "code",
   "execution_count": 9,
   "id": "e54ba994-bffa-46cd-a829-3b5deb5269c7",
   "metadata": {},
   "outputs": [],
   "source": [
    "### DO: Make a function to calculate the Levenshtein edit distance and calculate it for all the pairs. \n",
    "\n",
    "\n"
   ]
  },
  {
   "cell_type": "code",
   "execution_count": 10,
   "id": "a1500af6-375d-4696-9427-ccbfd4b6af04",
   "metadata": {},
   "outputs": [],
   "source": [
    "### DO: Create the distance matrix and MST of the edit distances.  \n",
    "### Compare to the distance matrix and MST of at least the geographical distances of the capitals. \n",
    "\n",
    "\n",
    "\n"
   ]
  },
  {
   "cell_type": "code",
   "execution_count": null,
   "id": "20ba38a5-4908-4337-806a-bded0b1f6ee6",
   "metadata": {},
   "outputs": [],
   "source": []
  }
 ],
 "metadata": {
  "kernelspec": {
   "display_name": "Python 3 (ipykernel)",
   "language": "python",
   "name": "python3"
  },
  "language_info": {
   "codemirror_mode": {
    "name": "ipython",
    "version": 3
   },
   "file_extension": ".py",
   "mimetype": "text/x-python",
   "name": "python",
   "nbconvert_exporter": "python",
   "pygments_lexer": "ipython3",
   "version": "3.9.6"
  }
 },
 "nbformat": 4,
 "nbformat_minor": 5
}
